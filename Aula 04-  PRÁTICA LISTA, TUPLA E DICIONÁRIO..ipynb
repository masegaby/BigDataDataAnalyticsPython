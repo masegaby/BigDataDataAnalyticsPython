{
 "cells": [
  {
   "cell_type": "markdown",
   "metadata": {},
   "source": [
    "#### Exercício 01 - Crie uma lista com nomes de 4 times de futebol.\n",
    "\n",
    "##### a) Palmeiras\n",
    "##### b) São Paulo\n",
    "##### c) Santos\n",
    "##### d) Água Santa\n",
    "##### e) A cesse o time que está na 3a posição.\n",
    "##### f) Crie uma lista com duas listas de 3 times de futebol, cada uma de uma divisão diferente."
   ]
  },
  {
   "cell_type": "code",
   "execution_count": 12,
   "metadata": {},
   "outputs": [],
   "source": [
    "times= ['Palmeiras','são paulo', 'santos','água santa']\n"
   ]
  },
  {
   "cell_type": "code",
   "execution_count": 11,
   "metadata": {},
   "outputs": [
    {
     "data": {
      "text/plain": [
       "'santos'"
      ]
     },
     "execution_count": 11,
     "metadata": {},
     "output_type": "execute_result"
    }
   ],
   "source": [
    "times[2]"
   ]
  },
  {
   "cell_type": "code",
   "execution_count": 13,
   "metadata": {},
   "outputs": [
    {
     "name": "stdout",
     "output_type": "stream",
     "text": [
      "[['Palmeiras, São Caetano, Sport, Coritiba'], ['Corinthians', 'Santos', 'São Paulo', 'Flamengo']]\n"
     ]
    }
   ],
   "source": [
    "times_A= ['Palmeiras, São Caetano, Sport, Coritiba']\n",
    "times_B= ['Corinthians','Santos','São Paulo','Flamengo']\n",
    "\n",
    "lista_times= [times_A, times_B]\n",
    "\n",
    "print(lista_times)"
   ]
  },
  {
   "cell_type": "code",
   "execution_count": 17,
   "metadata": {},
   "outputs": [
    {
     "data": {
      "text/plain": [
       "'São Paulo'"
      ]
     },
     "execution_count": 17,
     "metadata": {},
     "output_type": "execute_result"
    }
   ],
   "source": [
    "lista_times[1][2]"
   ]
  },
  {
   "cell_type": "markdown",
   "metadata": {},
   "source": [
    "##### Exercício 02 - Crie uma lista com 3 diferentes moedas. Acrescente mais 2 outras moedas à essa mesma lista."
   ]
  },
  {
   "cell_type": "code",
   "execution_count": 29,
   "metadata": {},
   "outputs": [
    {
     "data": {
      "text/plain": [
       "['euro', 'real', 'dolar', 'libra', 'iene']"
      ]
     },
     "execution_count": 29,
     "metadata": {},
     "output_type": "execute_result"
    }
   ],
   "source": [
    "moedas= ['euro','real','dolar']\n",
    "\n",
    "moedas.append ('libra')\n",
    "moedas.append('iene')\n",
    "\n",
    "moedas\n"
   ]
  },
  {
   "cell_type": "code",
   "execution_count": 30,
   "metadata": {},
   "outputs": [
    {
     "data": {
      "text/plain": [
       "['cruzeiro', 'euro', 'real', 'dolar', 'libra', 'iene']"
      ]
     },
     "execution_count": 30,
     "metadata": {},
     "output_type": "execute_result"
    }
   ],
   "source": [
    "# Adicionar um elemento a posição 1 \n",
    "\n",
    "moedas.insert(0,'cruzeiro')\n",
    "moedas"
   ]
  },
  {
   "cell_type": "code",
   "execution_count": 31,
   "metadata": {},
   "outputs": [
    {
     "data": {
      "text/plain": [
       "['euro', 'real', 'dolar', 'libra', 'iene']"
      ]
     },
     "execution_count": 31,
     "metadata": {},
     "output_type": "execute_result"
    }
   ],
   "source": [
    "#Excluir um elemento\n",
    "\n",
    "moedas.remove('cruzeiro')\n",
    "\n",
    "moedas"
   ]
  },
  {
   "cell_type": "markdown",
   "metadata": {},
   "source": [
    "##### Exercício 03 - Crie uma string com a lista do exercício anterior."
   ]
  },
  {
   "cell_type": "code",
   "execution_count": 4,
   "metadata": {},
   "outputs": [
    {
     "name": "stdout",
     "output_type": "stream",
     "text": [
      "euro;real;dolar;libra;iene\n",
      "['euro', 'real', 'dolar', 'libra', 'iene']\n"
     ]
    }
   ],
   "source": [
    "moedas= ['euro','real','dolar']\n",
    "\n",
    "moedas.append ('libra')\n",
    "moedas.append('iene')\n",
    "\n",
    "moedas\n",
    "\n",
    "#convertendo lista em string\n",
    "\n",
    "listaconver= ';'.join(moedas)\n",
    "print(listaconver)\n",
    "\n",
    "#convertendo string em lista \n",
    "\n",
    "lista= listaconver.split(';')\n",
    "\n",
    "print(lista)"
   ]
  },
  {
   "cell_type": "code",
   "execution_count": 5,
   "metadata": {},
   "outputs": [
    {
     "name": "stdout",
     "output_type": "stream",
     "text": [
      "euro;real;dolar\n"
     ]
    }
   ],
   "source": [
    "#convertendo lista em string\n",
    "\n",
    "moedas= ['euro','real','dolar']\n",
    "\n",
    "listaconver= ';'.join(moedas)\n",
    "print(listaconver)"
   ]
  },
  {
   "cell_type": "markdown",
   "metadata": {},
   "source": [
    "##### Exercício 04 - Agora utilize a string do exercício 3 para recriar uma lista."
   ]
  },
  {
   "cell_type": "code",
   "execution_count": 6,
   "metadata": {},
   "outputs": [
    {
     "name": "stdout",
     "output_type": "stream",
     "text": [
      "['euro', 'real', 'dolar']\n"
     ]
    }
   ],
   "source": [
    "#convertendo string em lista \n",
    "\n",
    "lista= listaconver.split(';')\n",
    "print(lista)"
   ]
  },
  {
   "cell_type": "markdown",
   "metadata": {},
   "source": [
    "#### Exercício 05 - Crie um dicionário chamado cardápio em que as chaves são os dias da semana e os respectivos valores sejam os pratos do dia."
   ]
  },
  {
   "cell_type": "code",
   "execution_count": 33,
   "metadata": {},
   "outputs": [
    {
     "data": {
      "text/plain": [
       "['Sopa', 'macarrão']"
      ]
     },
     "execution_count": 33,
     "metadata": {},
     "output_type": "execute_result"
    }
   ],
   "source": [
    "cardapio= {\n",
    "    'seg':['Risoto','ovo'],\n",
    "    'ter': ['Strogonoff','banana'],\n",
    "    'qua':['Feijoada','chuchu'],\n",
    "    'qui':['Parmegiana','escondidinho'],\n",
    "    'sex':['Sopa','macarrão']\n",
    "}\n",
    "\n",
    "cardapio['sex']"
   ]
  },
  {
   "cell_type": "markdown",
   "metadata": {},
   "source": [
    "#### Exercício 06 - Crie um dicionário chamado hemograma que contenha as seguintes chaves:valor.\n",
    "#### • hemacias: 4.71\n",
    "#### • hemoglobina: 14.1\n",
    "#### • hematocrito: 41.2\n",
    "#### • linfócitos: 38\n",
    "#### • monocitos: 7\n",
    "#### • resultado: saudável"
   ]
  },
  {
   "cell_type": "code",
   "execution_count": 36,
   "metadata": {},
   "outputs": [
    {
     "name": "stdout",
     "output_type": "stream",
     "text": [
      "4.71\n"
     ]
    }
   ],
   "source": [
    "hemograma={\n",
    "    'hemacias': 4.71,\n",
    "    'hemoglobina': 14.1,\n",
    "    'hematocrito': 41.2,\n",
    "    'linfócitos': 38,\n",
    "    'monocitos': 7,\n",
    "    'resultado': 'saudável'\n",
    "}\n",
    "\n",
    "hemograma['monocitos']= 10\n",
    "print(hemograma['hemacias'])"
   ]
  }
 ],
 "metadata": {
  "kernelspec": {
   "display_name": "Python 3",
   "language": "python",
   "name": "python3"
  },
  "language_info": {
   "codemirror_mode": {
    "name": "ipython",
    "version": 3
   },
   "file_extension": ".py",
   "mimetype": "text/x-python",
   "name": "python",
   "nbconvert_exporter": "python",
   "pygments_lexer": "ipython3",
   "version": "3.11.0"
  }
 },
 "nbformat": 4,
 "nbformat_minor": 2
}
