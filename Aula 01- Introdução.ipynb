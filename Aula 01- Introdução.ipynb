{
 "cells": [
  {
   "cell_type": "markdown",
   "metadata": {},
   "source": [
    "# Criando uma mensagem no console \n"
   ]
  },
  {
   "cell_type": "code",
   "execution_count": 1,
   "metadata": {},
   "outputs": [
    {
     "name": "stdout",
     "output_type": "stream",
     "text": [
      "Hello, baby!\n"
     ]
    }
   ],
   "source": [
    "print('Hello, baby!')"
   ]
  },
  {
   "cell_type": "markdown",
   "metadata": {},
   "source": [
    "### Exercício 01 - Crie um programa para receber dois valores e em seguida, exiba o valor da soma.\n"
   ]
  },
  {
   "cell_type": "code",
   "execution_count": 15,
   "metadata": {},
   "outputs": [
    {
     "name": "stdout",
     "output_type": "stream",
     "text": [
      "25\n"
     ]
    }
   ],
   "source": [
    "# Criando as variaveis e atribuindo valores a elas\n",
    "num1= 20\n",
    "num2= 5\n",
    "num3= 6\n",
    "# Somando os valores das tres variáveis criadas\n",
    "soma = num1 + num2\n",
    "\n",
    "print(soma)"
   ]
  },
  {
   "cell_type": "markdown",
   "metadata": {},
   "source": [
    "### Exercício 10 - Faça um Programa que converta metros para centímetros."
   ]
  },
  {
   "cell_type": "code",
   "execution_count": 22,
   "metadata": {},
   "outputs": [
    {
     "name": "stdout",
     "output_type": "stream",
     "text": [
      "2000\n"
     ]
    }
   ],
   "source": [
    "metro= 20\n",
    "centimetros= metro * 100\n",
    "\n",
    "print(centimetros)"
   ]
  },
  {
   "cell_type": "code",
   "execution_count": 31,
   "metadata": {},
   "outputs": [
    {
     "name": "stdout",
     "output_type": "stream",
     "text": [
      "2000.0\n"
     ]
    }
   ],
   "source": [
    "metros= input(\"Digite um valor em metros\")\n",
    "metros= float(metros)\n",
    "centimetros= metros * 100\n",
    "print(centimetros)"
   ]
  },
  {
   "cell_type": "markdown",
   "metadata": {},
   "source": [
    "### Exercício 11 - Faça um Programa que peça o raio de um círculo, calcule e mostre sua área."
   ]
  },
  {
   "cell_type": "code",
   "execution_count": 51,
   "metadata": {},
   "outputs": [
    {
     "name": "stdout",
     "output_type": "stream",
     "text": [
      "O círculo com raio de 2.0mm, tem uma área de 12.56mm2\n"
     ]
    }
   ],
   "source": [
    "raio = input('Digite raio do círculo')\n",
    "raio= float (raio)\n",
    "area = 3.14 * raio ** 2\n",
    "print(f'O círculo com raio de {raio}mm, tem uma área de {area}mm2')"
   ]
  },
  {
   "cell_type": "code",
   "execution_count": 52,
   "metadata": {},
   "outputs": [
    {
     "data": {
      "text/plain": [
       "3.141592653589793"
      ]
     },
     "execution_count": 52,
     "metadata": {},
     "output_type": "execute_result"
    }
   ],
   "source": [
    "#Carregar a biblioteca e utilizar o valor do PI completo\n",
    "import numpy as np\n",
    "np.pi"
   ]
  },
  {
   "cell_type": "code",
   "execution_count": 53,
   "metadata": {},
   "outputs": [
    {
     "name": "stdout",
     "output_type": "stream",
     "text": [
      "O círculo com raio de 1.0mm, tem uma área de 3.141592653589793mm2\n"
     ]
    }
   ],
   "source": [
    "# Mesmo exercício utilizando PI da biblioteca numpy\n",
    "import numpy as np\n",
    "\n",
    "raio = input('Digite raio do círculo')\n",
    "raio= float (raio)\n",
    "pi = np.pi\n",
    "area = np.pi * raio ** 2\n",
    "print(f'O círculo com raio de {raio}mm, tem uma área de {area}mm2')"
   ]
  },
  {
   "cell_type": "markdown",
   "metadata": {},
   "source": [
    "### Exercício 12 - Faça um Programa que calcule a área de um quadrado, em seguida mostre o dobro desta área para o usuário."
   ]
  },
  {
   "cell_type": "code",
   "execution_count": 41,
   "metadata": {},
   "outputs": [
    {
     "name": "stdout",
     "output_type": "stream",
     "text": [
      "25.0\n"
     ]
    }
   ],
   "source": [
    "lado = input(\"Insira valor do lado\")\n",
    "lado = float (lado)\n",
    "area = lado ** 2\n",
    "print (area)"
   ]
  },
  {
   "cell_type": "markdown",
   "metadata": {},
   "source": [
    "#### Exercício 13 - Faça um Programa que pergunte quanto você ganha por hora e o número de horas trabalhadas no mês. Calcule e mostre o total do seu salário no referido mês."
   ]
  },
  {
   "cell_type": "code",
   "execution_count": 43,
   "metadata": {},
   "outputs": [
    {
     "name": "stdout",
     "output_type": "stream",
     "text": [
      "1000.0\n"
     ]
    }
   ],
   "source": [
    "salariohora= input(\"Quanto você ganha por hora?\")\n",
    "horames= input(\"Quantas horas você trabalha por mês?\")\n",
    "\n",
    "salariohora= float(salariohora)\n",
    "horames=float (horames)\n",
    "totalsalario = salariohora * horames\n",
    "print(totalsalario)"
   ]
  },
  {
   "cell_type": "markdown",
   "metadata": {},
   "source": [
    "### Exercício 14 - Faça um Programa que peça a temperatura em graus Fahrenheit, transforme e mostre a temperatura em graus Celsius."
   ]
  },
  {
   "cell_type": "code",
   "execution_count": 2,
   "metadata": {},
   "outputs": [
    {
     "name": "stdout",
     "output_type": "stream",
     "text": [
      "1.0\n"
     ]
    }
   ],
   "source": [
    "# 1 Grau Celsius = 33,8 Fahrehiet\n",
    "\n",
    "fahrenheit= float(input(\"Temperatura em Fahrenheit:\"))\n",
    "\n",
    "celsius= (fahrenheit/33.8)\n",
    "\n",
    "print(celsius)"
   ]
  },
  {
   "cell_type": "markdown",
   "metadata": {},
   "source": [
    "#### Exercício 15 - Faça um Programa que peça a temperatura em graus Celsius, transforme e mostre em graus Fahrenheit."
   ]
  },
  {
   "cell_type": "code",
   "execution_count": 3,
   "metadata": {},
   "outputs": [
    {
     "name": "stdout",
     "output_type": "stream",
     "text": [
      "33.8\n"
     ]
    }
   ],
   "source": [
    "# 1 Grau Celsius = 33,8 Fahrehiet\n",
    "\n",
    "celsius = float(input(\"Temperatura em Celsius:\"))\n",
    "\n",
    "fahrenheit = (33.8*celsius)\n",
    "\n",
    "print(fahrenheit)"
   ]
  }
 ],
 "metadata": {
  "kernelspec": {
   "display_name": "Python 3",
   "language": "python",
   "name": "python3"
  },
  "language_info": {
   "codemirror_mode": {
    "name": "ipython",
    "version": 3
   },
   "file_extension": ".py",
   "mimetype": "text/x-python",
   "name": "python",
   "nbconvert_exporter": "python",
   "pygments_lexer": "ipython3",
   "version": "3.11.0"
  }
 },
 "nbformat": 4,
 "nbformat_minor": 2
}
