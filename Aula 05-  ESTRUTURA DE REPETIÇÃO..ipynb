{
 "cells": [
  {
   "cell_type": "markdown",
   "metadata": {},
   "source": [
    "#### FOR SIMPLES"
   ]
  },
  {
   "cell_type": "code",
   "execution_count": null,
   "metadata": {},
   "outputs": [],
   "source": [
    "listaValores = [1,2,3,4,5]\n",
    "\n",
    "a = listaValores[0]+listaValores[4]\n",
    "\n",
    "for x in listaValores:\n",
    "\n",
    "    a = a + x\n",
    "    print(a)"
   ]
  },
  {
   "cell_type": "markdown",
   "metadata": {},
   "source": [
    "#### FOR CONDICIONAL (FOR + IF)"
   ]
  },
  {
   "cell_type": "code",
   "execution_count": null,
   "metadata": {},
   "outputs": [],
   "source": [
    "frutas =['abacaxi','pera','uva']\n",
    "\n",
    "for fruta in frutas:\n",
    "\n",
    "    if fruta.starst"
   ]
  },
  {
   "cell_type": "markdown",
   "metadata": {},
   "source": [
    "#### FOR ACUMULADOR "
   ]
  },
  {
   "cell_type": "code",
   "execution_count": null,
   "metadata": {},
   "outputs": [],
   "source": [
    "listaNumeros= [1,2,3,4,5,6,7,8,9,10]\n",
    "\n",
    "soma = 0 #Variável acumuladora\n",
    "\n",
    "for numero in listaNumeros:\n",
    "\n",
    "    soma= soma + numero\n",
    "\n",
    "    print(soma)"
   ]
  },
  {
   "cell_type": "markdown",
   "metadata": {},
   "source": [
    "## LISTA DE EXERCÍCIOS 03"
   ]
  },
  {
   "cell_type": "markdown",
   "metadata": {},
   "source": [
    "#### Exercício 06 - Faça um programa que imprima na tela os números de 1 a 20, um abaixo do outro. Depois modifique o programa para que ele mostre os números um ao lado do outro."
   ]
  },
  {
   "cell_type": "code",
   "execution_count": null,
   "metadata": {},
   "outputs": [],
   "source": [
    "listanumeros= range(1,21)\n",
    "\n",
    "#Para mostrar número um do lado do outro é necessário criar uma lista vazia\n",
    "lista=[]\n",
    "\n",
    "for x in listanumeros:\n",
    "\n",
    "#Para dicionar novos elementos a lista, usa-se comando Append\n",
    "   \n",
    "    lista.append(x)\n",
    "\n",
    "print(lista)\n",
    "\n",
    "#Tirar o print da identação para que não faça a retição"
   ]
  },
  {
   "cell_type": "markdown",
   "metadata": {},
   "source": [
    "##### Exercício 07 - Faça um programa que leia 5 números e informe o maior número."
   ]
  },
  {
   "cell_type": "code",
   "execution_count": null,
   "metadata": {},
   "outputs": [],
   "source": [
    "listacontrole= range (1,6)\n",
    "#lista vazia\n",
    "numeros=[]\n",
    "\n",
    "for i in listacontrole:\n",
    "    num= int(input(\"Insira o elemento:\"))\n",
    "\n",
    "    numeros.append(num)\n",
    "\n",
    "    print(num)\n",
    "\n",
    "    # O range poderia ir diretamente no local do listacontrole e funcionaria da mesma forma\n"
   ]
  },
  {
   "cell_type": "code",
   "execution_count": null,
   "metadata": {},
   "outputs": [],
   "source": [
    "#Outra opção\n",
    "listacontrole= range (1,6)\n",
    "#lista vazia\n",
    "numeros=[]\n",
    "\n",
    "for i in listacontrole:\n",
    "    num= int(input(f\"Insira o {i}º valor:\"))\n",
    "    numeros.append(num)\n",
    "\n",
    "print(max(numeros))"
   ]
  },
  {
   "cell_type": "markdown",
   "metadata": {},
   "source": [
    "#### Exercício 08 - Faça um programa que leia 5 números e informe a soma e a média dos números."
   ]
  },
  {
   "cell_type": "code",
   "execution_count": null,
   "metadata": {},
   "outputs": [],
   "source": [
    "#utilizando do exerxício anterior\n",
    "\n",
    "#SOMA\n",
    "soma= sum(numeros)\n",
    "\n",
    "#QUANTIDADE DE ELEMENTOS \n",
    "qtd= len(numeros)\n",
    "\n",
    "#MÉDIA\n",
    "media= soma/qtd\n",
    "\n",
    "print(soma)\n",
    "print(qtd)\n",
    "print(media)\n",
    "    \n"
   ]
  },
  {
   "cell_type": "code",
   "execution_count": null,
   "metadata": {},
   "outputs": [],
   "source": [
    "#OUTRA FORME DE REALIZAR O CÁLCULO\n",
    "\n",
    "listacontrole= range (1,6)\n",
    "#lista vazia\n",
    "numeros=[]\n",
    "\n",
    "for i in listacontrole:\n",
    "    num= int(input(f\"Insira o {i}º valor:\"))\n",
    "    numeros.append(num)\n",
    "\n",
    "soma= sum(numeros)\n",
    "media= soma/len(numeros)\n",
    "\n",
    "print(soma)\n",
    "print(media)\n"
   ]
  },
  {
   "cell_type": "markdown",
   "metadata": {},
   "source": [
    "#### Exercício 09 - Faça um programa que imprima na tela apenas os números ímpares entre 1 e 50."
   ]
  },
  {
   "cell_type": "code",
   "execution_count": null,
   "metadata": {},
   "outputs": [],
   "source": [
    "numeros= range (1,51)\n",
    "#lista vazia\n",
    "\n",
    "for i in numeros:\n",
    "\n",
    "    if i%2 !=0:\n",
    "        print(f\"{i}= Número impar\")\n",
    "\n",
    "    else:   \n",
    "        print(f\"{i}= Número par\")\n"
   ]
  },
  {
   "cell_type": "markdown",
   "metadata": {},
   "source": [
    "#### Exercício 10 - Faça um programa que receba dois números inteiros e gere os números inteiros que estão no intervalo compreendido por eles."
   ]
  },
  {
   "cell_type": "code",
   "execution_count": null,
   "metadata": {},
   "outputs": [],
   "source": [
    "num1= int(input(\"Insira o valor inicial:\"))\n",
    "num2= int(input(\"Insira o valor final:\"))\n",
    "\n",
    "numeros= range(num1,num2+1)\n",
    "\n",
    "for i in numeros:\n",
    "    print (i)\n"
   ]
  },
  {
   "cell_type": "markdown",
   "metadata": {},
   "source": [
    "#### Exercício 11 - Altere o programa anterior para mostrar no final a soma dos números."
   ]
  },
  {
   "cell_type": "code",
   "execution_count": null,
   "metadata": {},
   "outputs": [],
   "source": [
    "num1= int(input(\"Insira o valor inicial:\"))\n",
    "num2= int(input(\"Insira o valor final:\"))\n",
    "\n",
    "numeros= range(num1,num2+1)\n",
    "\n",
    "for i in numeros:\n",
    "\n",
    "    print (i)\n",
    "\n",
    "soma= sum(numeros)\n",
    "print(f\"A soma da sequencia dos números é: {soma}\")\n"
   ]
  },
  {
   "cell_type": "code",
   "execution_count": null,
   "metadata": {},
   "outputs": [],
   "source": [
    "# Outra forma de resolver\n",
    "\n",
    "num1= int(input(\"Insira o valor inicial:\"))\n",
    "num2= int(input(\"Insira o valor final:\"))\n",
    "soma= 0\n",
    "numeros= range(num1,num2+1)\n",
    "\n",
    "for i in numeros:\n",
    "    soma+= i\n",
    "    print (i)\n",
    "\n",
    "soma= sum(numeros)\n",
    "print(f\"A soma da sequencia dos números é: {soma}\")"
   ]
  },
  {
   "cell_type": "markdown",
   "metadata": {},
   "source": [
    "#### Exercício 12 - Desenvolva um gerador de tabuada, capaz de gerar a tabuada de qualquer número inteiro entre 1 a 10. O usuário deve informar de qual numero ele deseja ver a tabuada. A saída deve ser conforme o exemplo abaixo:"
   ]
  },
  {
   "cell_type": "code",
   "execution_count": null,
   "metadata": {},
   "outputs": [],
   "source": [
    "num1= int(input(\"Insira um valor de 1 a 10:\"))\n",
    "sequencia= range(1,11)\n",
    "\n",
    "for i in sequencia:\n",
    "    print(f\"{num1} x {i} = {num1*i}\")"
   ]
  },
  {
   "cell_type": "markdown",
   "metadata": {},
   "source": [
    "##### Exercício 13 - Faça um programa que peça dois números, base e expoente, calcule e mostre o primeiro número elevado ao segundo número. Não utilize a função de potência da linguagem."
   ]
  },
  {
   "cell_type": "code",
   "execution_count": null,
   "metadata": {},
   "outputs": [],
   "source": [
    "base= int(input(\"Valor da base:\"))\n",
    "exp= int(input(\"Valor do expoente:\"))\n",
    "rep= range(1,exp+1)\n",
    "\n",
    "for i in rep:\n",
    " \n",
    "    print(base*i)\n"
   ]
  },
  {
   "cell_type": "markdown",
   "metadata": {},
   "source": [
    "##### Exercício 01 – Faça um programa que peça uma nota, entre zero e dez. Mostre uma mensagem caso o valor seja inválido e continue pedindo até que o usuário informe um valor válido."
   ]
  },
  {
   "cell_type": "code",
   "execution_count": null,
   "metadata": {},
   "outputs": [],
   "source": [
    "num= int(input(\"Insira um valor entre 0 e 10:\"))\n",
    "\n",
    "if num in range(0,11):\n",
    "    print(num)\n",
    "\n",
    "else:\n",
    "    print (\"Valor inválido\")"
   ]
  },
  {
   "cell_type": "markdown",
   "metadata": {},
   "source": [
    "## LOOP WHILE\n",
    "\n",
    "### A estrutura de repetição while é utilizada quando precisamos repetir uma ação algumas vezes ou fazer uma iteração até que uma condição seja satisfeita."
   ]
  },
  {
   "cell_type": "code",
   "execution_count": 1,
   "metadata": {},
   "outputs": [
    {
     "name": "stdout",
     "output_type": "stream",
     "text": [
      "1\n",
      "2\n",
      "3\n",
      "4\n",
      "5\n",
      "6\n",
      "7\n",
      "8\n",
      "9\n",
      "10\n"
     ]
    }
   ],
   "source": [
    "i= 1 #variável controle\n",
    "soma= 0 #vaiável acumuladora\n",
    "\n",
    "while i <= 10:\n",
    "    soma+=1\n",
    "\n",
    "    i+=1\n",
    "    print(soma)"
   ]
  }
 ],
 "metadata": {
  "kernelspec": {
   "display_name": "Python 3",
   "language": "python",
   "name": "python3"
  },
  "language_info": {
   "codemirror_mode": {
    "name": "ipython",
    "version": 3
   },
   "file_extension": ".py",
   "mimetype": "text/x-python",
   "name": "python",
   "nbconvert_exporter": "python",
   "pygments_lexer": "ipython3",
   "version": "3.11.0"
  }
 },
 "nbformat": 4,
 "nbformat_minor": 2
}
