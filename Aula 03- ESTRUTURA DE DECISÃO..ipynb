{
 "cells": [
  {
   "cell_type": "markdown",
   "metadata": {},
   "source": [
    "#### Exercício 04 - Crie uma variável chamada \"idade\" e atribua um valor inteiro a ela. Verifique se a idade está dentro do intervalo de 18 a 30 (inclusive) e imprima a mensagem \"Idade válida\" ou \"Idade inválida\" de acordo com a condição."
   ]
  },
  {
   "cell_type": "code",
   "execution_count": 10,
   "metadata": {},
   "outputs": [
    {
     "name": "stdout",
     "output_type": "stream",
     "text": [
      "Idade válida\n"
     ]
    }
   ],
   "source": [
    "idade= int(input(\"Insira sua idade:\"))\n",
    "\n",
    "if 18 <= idade <= 30:\n",
    "    print(\"Idade válida\")\n",
    "\n",
    "else:\n",
    "    print(\"Idade Inválida\")"
   ]
  },
  {
   "cell_type": "code",
   "execution_count": null,
   "metadata": {},
   "outputs": [],
   "source": [
    "idade= int(input(\"Insira sua idade:\"))\n",
    "\n",
    "if idade>=18 and idade <= 30:\n",
    "    print(\"Idade válida\")\n",
    "\n",
    "else:\n",
    "    print(\"Idade Inválida\")"
   ]
  },
  {
   "cell_type": "markdown",
   "metadata": {},
   "source": [
    "#### Exercício 05 - Crie uma variável chamada \"numero\" e atribua um valor inteiro a ela. Verifique se o número é par ou ímpar e imprima a mensagem correspondente."
   ]
  },
  {
   "cell_type": "code",
   "execution_count": 27,
   "metadata": {},
   "outputs": [
    {
     "name": "stdout",
     "output_type": "stream",
     "text": [
      "Número Impar\n"
     ]
    }
   ],
   "source": [
    "numero = int(input(\"Insira um número inteiro:\"))\n",
    "\n",
    "resto = numero%2\n",
    "\n",
    "if resto !=0:\n",
    "    print(\"Número Impar\")\n",
    "\n",
    "else:\n",
    "    print(\"Número Par\")"
   ]
  },
  {
   "cell_type": "markdown",
   "metadata": {},
   "source": [
    "#### Exercício 06 - Crie uma variável chamada \"horario\" e atribua um valor inteiro representando a hora do dia (em formato 24 horas). Verifique se o horário está dentro do período da manhã (das 6h às 12h), da tarde (das 12h às 18h) ou da noite (das 18h às 23h) e imprima a mensagem correspondente."
   ]
  },
  {
   "cell_type": "code",
   "execution_count": 28,
   "metadata": {},
   "outputs": [
    {
     "name": "stdout",
     "output_type": "stream",
     "text": [
      "Madrugada\n"
     ]
    }
   ],
   "source": [
    "hora= int(input(\"Digite o horário:\"))\n",
    "\n",
    "if 6 <= hora < 12:\n",
    "    print(\"Manhã\")\n",
    "\n",
    "elif 12 <= hora < 18:\n",
    "    print(\"Tarde\")\n",
    "\n",
    "elif 18 <= hora <= 23:\n",
    "    print(\"Noite\")\n",
    "\n",
    "else:\n",
    "    print(\"Madrugada\") \n"
   ]
  },
  {
   "cell_type": "markdown",
   "metadata": {},
   "source": [
    "#### Exercício 07 - Crie uma variável chamada \"peso\" e atribua um valor numérico a ela. Verifique se o peso está dentro do intervalo de 50 a 100 (inclusive) e imprima a mensagem \"Peso válido\" ou \"Peso inválido\" de acordo com a condição."
   ]
  },
  {
   "cell_type": "code",
   "execution_count": 34,
   "metadata": {},
   "outputs": [
    {
     "name": "stdout",
     "output_type": "stream",
     "text": [
      "Peso válido\n"
     ]
    }
   ],
   "source": [
    "peso= float(input(\"Digite o seu peso:\"))\n",
    "\n",
    "if 50 <= peso <= 100:\n",
    "    print(\"Peso válido\")\n",
    "\n",
    "else:\n",
    "    print(\"Peso inválido\")"
   ]
  },
  {
   "cell_type": "markdown",
   "metadata": {},
   "source": [
    "#### Exercício 08 - Crie uma variável chamada \"numero\" e atribua um valor inteiro a ela. Verifique se o número é múltiplo de 3 e de 5 ao mesmo tempo e imprima a mensagem correspondente."
   ]
  },
  {
   "cell_type": "code",
   "execution_count": 41,
   "metadata": {},
   "outputs": [
    {
     "name": "stdout",
     "output_type": "stream",
     "text": [
      "Número multiplo de 3 e 5 simultaneamente\n"
     ]
    }
   ],
   "source": [
    "numero= int(input(\"Dígite um número inteiro:\"))\n",
    "\n",
    "mult3= numero%3\n",
    "mult5 = numero%5\n",
    "\n",
    "if mult3 == 0 and mult5 == 0:\n",
    "    print(\"Número multiplo de 3 e 5 simultaneamente\")\n",
    "\n",
    "else:\n",
    "    print(\"Número NÃO é multiplo de 3 e 5\")"
   ]
  },
  {
   "cell_type": "markdown",
   "metadata": {},
   "source": [
    "#### Exercício 09 - Crie uma variável chamada \"ano\" e atribua um valor inteiro representando um ano. Verifique se o ano é bissexto (divisível por 4, mas não por 100, exceto se for divisível por 400) e imprima a mensagem correspondente."
   ]
  },
  {
   "cell_type": "code",
   "execution_count": 66,
   "metadata": {},
   "outputs": [
    {
     "name": "stdout",
     "output_type": "stream",
     "text": [
      "True\n"
     ]
    }
   ],
   "source": [
    "ano = int(input(\"Digite o ano:\"))\n",
    "\n",
    "#Atende\n",
    "verif1= ano%4 \n",
    "#Não Atende\n",
    "verif2= ano%100 \n",
    "#Atende\n",
    "verif3= ano%400 \n",
    "\n",
    "if verif1 == 0 and verif2 != 0 or verif3 == 0:\n",
    "    print(\"True\")\n",
    "\n",
    "else:\n",
    "    print(\"False\")"
   ]
  },
  {
   "cell_type": "code",
   "execution_count": 114,
   "metadata": {},
   "outputs": [
    {
     "name": "stdout",
     "output_type": "stream",
     "text": [
      "O ano 1900 NÃO é bissexto.\n"
     ]
    }
   ],
   "source": [
    "ano = int(input(\"Digite o ano:\"))\n",
    "\n",
    "if(ano%4 == 0 and ano % 100 != 0) or ano % 400 == 0:\n",
    "    print(f'O ano {ano} é bissexto.')\n",
    "\n",
    "else:\n",
    "    print(f'O ano {ano} NÃO é bissexto.')"
   ]
  },
  {
   "cell_type": "markdown",
   "metadata": {},
   "source": [
    "#### Exercício 10 - Crie uma variável chamada \"salario\" e atribua um valor numérico a ela. Verifique se o salário é maior do que 1000 e menor do que 2000 ao mesmo tempo e imprima a mensagem correspondente."
   ]
  },
  {
   "cell_type": "code",
   "execution_count": 71,
   "metadata": {},
   "outputs": [
    {
     "name": "stdout",
     "output_type": "stream",
     "text": [
      "Atende a condição\n"
     ]
    }
   ],
   "source": [
    "salario= int(input(\"Digite o valor do seu sário:\"))\n",
    "\n",
    "if  1000 < salario < 2000:\n",
    "    print(\"Atende a condição\")\n",
    "else:\n",
    "    print(\"Não atende a condição\")\n"
   ]
  },
  {
   "cell_type": "markdown",
   "metadata": {},
   "source": [
    "#### Exercício 11 - Faça um Programa que peça dois números e imprima o maior deles."
   ]
  },
  {
   "cell_type": "code",
   "execution_count": 79,
   "metadata": {},
   "outputs": [
    {
     "name": "stdout",
     "output_type": "stream",
     "text": [
      "6.0 é maior do que 5.0\n"
     ]
    }
   ],
   "source": [
    "num1= float(input(\"Digite 1º Número:\"))\n",
    "num2= float(input(\"Digite 2º Número:\"))\n",
    "\n",
    "if num1 > num2:\n",
    "    print(f\"{num1} é maior do que {num2}\")\n",
    "\n",
    "else:\n",
    "    print(f\"{num2} é maior do que {num1}\")"
   ]
  },
  {
   "cell_type": "markdown",
   "metadata": {},
   "source": [
    "#### Exercício 12 - Faça um Programa que peça um valor e mostre na tela se o valor é positivo ou negativo."
   ]
  },
  {
   "cell_type": "code",
   "execution_count": 83,
   "metadata": {},
   "outputs": [
    {
     "name": "stdout",
     "output_type": "stream",
     "text": [
      "Número Positivo\n"
     ]
    }
   ],
   "source": [
    "num1= float(input(\"Digite 1º Número:\"))\n",
    "\n",
    "if num1 < 0:\n",
    "    print(\"Número Negativo\")\n",
    "\n",
    "else:\n",
    "    print(\"Número Positivo\")"
   ]
  },
  {
   "cell_type": "markdown",
   "metadata": {},
   "source": [
    "#### Exercício 13 - Faça um Programa que verifique se uma letra digitada é \"F\" ou \"M\". Conforme a letra escrever: F - Feminino, M - Masculino, Sexo Inválido."
   ]
  },
  {
   "cell_type": "code",
   "execution_count": 97,
   "metadata": {},
   "outputs": [
    {
     "name": "stdout",
     "output_type": "stream",
     "text": [
      "Masculino\n"
     ]
    }
   ],
   "source": [
    "sexo= str(input(\"Digite M para Masculino e F para Feminino:\"))\n",
    "\n",
    "if sexo == 'f' or sexo == 'F':\n",
    "    print(\"Feminino\")\n",
    "\n",
    "elif sexo == 'm' or sexo =='M':\n",
    "    print(\"Masculino\")\n",
    "else:\n",
    "    print(\"Inválido\")"
   ]
  },
  {
   "cell_type": "markdown",
   "metadata": {},
   "source": [
    "#### Exercício 14 - Faça um Programa que verifique se uma letra digitada é vogal ou consoante."
   ]
  },
  {
   "cell_type": "code",
   "execution_count": 101,
   "metadata": {},
   "outputs": [
    {
     "name": "stdout",
     "output_type": "stream",
     "text": [
      "Consoante\n"
     ]
    }
   ],
   "source": [
    "letra= str(input(\"Digite uma letra maiúscula:\"))\n",
    "\n",
    "if letra == \"A\" or letra == \"E\" or letra == \"I\" or letra == \"O\" or letra == \"U\":\n",
    "    print(\"Vogal\")\n",
    "\n",
    "else:\n",
    "    print(\"Consoante\")"
   ]
  },
  {
   "cell_type": "markdown",
   "metadata": {},
   "source": [
    "##### Exercício 15 - Faça um programa para a leitura de duas notas parciais de um aluno. O programa deve calcular a média alcançada por aluno e apresentar:"
   ]
  },
  {
   "cell_type": "markdown",
   "metadata": {},
   "source": [
    "##### • A mensagem \"Aprovado\", se a média alcançada for maior ou igual a sete;\n",
    "##### • A mensagem \"Reprovado\", se a média for menor do que sete;\n",
    "##### • A mensagem \"Aprovado com Distinção\", se a média for igual a dez."
   ]
  },
  {
   "cell_type": "code",
   "execution_count": 103,
   "metadata": {},
   "outputs": [
    {
     "name": "stdout",
     "output_type": "stream",
     "text": [
      "Reprovado\n"
     ]
    }
   ],
   "source": [
    "nota1= float(input(\"Digite a primeira nota:\"))\n",
    "nota2= float(input(\"Digite a segunda nota:\"))\n",
    "\n",
    "media= (nota1+nota2)/2\n",
    "\n",
    "if media >= 7 and media != 10:\n",
    "    print(\"Aprovado\")\n",
    "\n",
    "elif media < 7:\n",
    "    print(\"Reprovado\")\n",
    "\n",
    "elif media == 10:\n",
    "    print(\"Aprovado com Distrinção\")\n"
   ]
  },
  {
   "cell_type": "markdown",
   "metadata": {},
   "source": [
    "#### Exercício 16 - Faça um Programa que leia três números e mostre o maior deles."
   ]
  },
  {
   "cell_type": "code",
   "execution_count": 108,
   "metadata": {},
   "outputs": [
    {
     "name": "stdout",
     "output_type": "stream",
     "text": [
      "3º Número é o maior\n"
     ]
    }
   ],
   "source": [
    "num1= float(input(\"1º Número:\"))\n",
    "num2= float(input(\"2º Número:\"))\n",
    "num3= float(input(\"3º Número:\"))\n",
    "\n",
    "#Para número 1 maior:\n",
    "if num1 > num2 and num1 > num3:\n",
    "    print(\"1º Número é o maior\")\n",
    "\n",
    "#Para número 2 maior:\n",
    "elif num2 > num1 and num2 > num3:\n",
    "    print(\"2º Número é o maior\")\n",
    "\n",
    "#Para número 3 maior:\n",
    "elif num3> num2 and num3 > num1:\n",
    "    print(\"3º Número é o maior\")\n",
    "\n",
    "else:\n",
    "    print(\"Escolha outros valores\")"
   ]
  },
  {
   "cell_type": "markdown",
   "metadata": {},
   "source": [
    "#### Exercício 17 - Faça um Programa que leia três números e mostre o maior e o menor deles."
   ]
  },
  {
   "cell_type": "code",
   "execution_count": 129,
   "metadata": {},
   "outputs": [
    {
     "ename": "ValueError",
     "evalue": "could not convert string to float: ''",
     "output_type": "error",
     "traceback": [
      "\u001b[1;31m---------------------------------------------------------------------------\u001b[0m",
      "\u001b[1;31mValueError\u001b[0m                                Traceback (most recent call last)",
      "\u001b[1;32mc:\\Users\\FIC\\Documents\\gabrielly_holanda_big_data\\Aula 03- ESTRUTURA DE DECISÃO..ipynb Cell 31\u001b[0m line \u001b[0;36m1\n\u001b[1;32m----> <a href='vscode-notebook-cell:/c%3A/Users/FIC/Documents/gabrielly_holanda_big_data/Aula%2003-%20ESTRUTURA%20DE%20DECIS%C3%83O..ipynb#X50sZmlsZQ%3D%3D?line=0'>1</a>\u001b[0m num1\u001b[39m=\u001b[39m \u001b[39mfloat\u001b[39;49m(\u001b[39minput\u001b[39;49m(\u001b[39m\"\u001b[39;49m\u001b[39m1º Número:\u001b[39;49m\u001b[39m\"\u001b[39;49m))\n\u001b[0;32m      <a href='vscode-notebook-cell:/c%3A/Users/FIC/Documents/gabrielly_holanda_big_data/Aula%2003-%20ESTRUTURA%20DE%20DECIS%C3%83O..ipynb#X50sZmlsZQ%3D%3D?line=1'>2</a>\u001b[0m num2\u001b[39m=\u001b[39m \u001b[39mfloat\u001b[39m(\u001b[39minput\u001b[39m(\u001b[39m\"\u001b[39m\u001b[39m2º Número:\u001b[39m\u001b[39m\"\u001b[39m))\n\u001b[0;32m      <a href='vscode-notebook-cell:/c%3A/Users/FIC/Documents/gabrielly_holanda_big_data/Aula%2003-%20ESTRUTURA%20DE%20DECIS%C3%83O..ipynb#X50sZmlsZQ%3D%3D?line=2'>3</a>\u001b[0m num3\u001b[39m=\u001b[39m \u001b[39mfloat\u001b[39m(\u001b[39minput\u001b[39m(\u001b[39m\"\u001b[39m\u001b[39m3º Número:\u001b[39m\u001b[39m\"\u001b[39m))\n",
      "\u001b[1;31mValueError\u001b[0m: could not convert string to float: ''"
     ]
    }
   ],
   "source": [
    "num1= float(input(\"1º Número:\"))\n",
    "num2= float(input(\"2º Número:\"))\n",
    "num3= float(input(\"3º Número:\"))\n",
    "\n",
    "#Para número 1 maior:\n",
    "if num1 > num2 and num1 > num3:\n",
    "    print(\"1º Número é o maior\")\n",
    "\n",
    "#Para número 2 maior:\n",
    "elif num2 > num1 and num2 > num3:\n",
    "    print(\"2º Número é o maior\")\n",
    "\n",
    "#Para número 3 maior:\n",
    "elif num3> num2 and num3 > num1:\n",
    "    print(\"3º Número é o maior\")\n",
    "\n",
    "#Para número 1 menor:\n",
    "elif num1 < num2 and num1 < num3:\n",
    "    print(\"1º Número é o menor\")\n",
    "\n",
    "#Para número 2 menor:\n",
    "elif num2 < num1 and num2 < num3:\n",
    "    print(\"2º Número é o menor\")\n",
    "\n",
    "#Para número 3 menor:\n",
    "elif num3 < num2 and num3 < num1:\n",
    "    print(\"3º Número é o menor\")\n",
    "\n",
    "else:\n",
    "    print(\"Escolha outros valores\")\n"
   ]
  },
  {
   "cell_type": "markdown",
   "metadata": {},
   "source": [
    "#### Exercício 18 - Faça um programa que pergunte o preço de três produtos e informe qual produto você deve comprar, sabendo que a decisão é sempre pelo mais barato."
   ]
  },
  {
   "cell_type": "code",
   "execution_count": 118,
   "metadata": {},
   "outputs": [
    {
     "name": "stdout",
     "output_type": "stream",
     "text": [
      "Recomendamos a compra do 1º produto, pois é o mais barato\n"
     ]
    }
   ],
   "source": [
    "valor1= float(input(\"Preço do 1º produto:\"))\n",
    "valor2= float(input(\"Preço do 2º produto:\"))\n",
    "valor3= float(input(\"Preço do 3º produto:\"))\n",
    "\n",
    "#Para produto 1:\n",
    "if num1 < num2 and num1 < num3:\n",
    "    print(\"Recomendamos a compra do 1º produto, pois é o mais barato\")\n",
    "\n",
    "#Para produto 2:\n",
    "if num2 < num1 and num2 < num3:\n",
    "    print(\"Recomendamos a compra do 2º produto, pois é o mais barato\")\n",
    "\n",
    "#Para produto 3:\n",
    "if num3 < num2 and num3 < num1:\n",
    "    print(\"Recomendamos a compra do 3º produto, pois é o mais barato\")\n"
   ]
  },
  {
   "cell_type": "markdown",
   "metadata": {},
   "source": [
    "#### Exercício 19 - Faça um Programa que leia três números e mostre-os em ordem decrescente."
   ]
  },
  {
   "cell_type": "code",
   "execution_count": null,
   "metadata": {},
   "outputs": [],
   "source": [
    "valor1= float(input(\"Preço do 1º produto:\"))\n",
    "valor2= float(input(\"Preço do 2º produto:\"))\n",
    "valor3= float(input(\"Preço do 3º produto:\"))\n",
    "\n",
    "if num1 < num2 and num1 < num3:\n",
    "elif num2 < num1 and num2 < num3:\n",
    "elif num3 < num2 and num3 < num1:\n",
    "\n",
    "if num1 < num2 and num1 < num3:\n",
    "elif num2 < num1 and num2 < num3:\n",
    "elif num3 < num2 and num3 < num1:"
   ]
  },
  {
   "cell_type": "markdown",
   "metadata": {},
   "source": [
    "##### Exercício 20 - Faça um Programa que pergunte em que turno você estuda. Peça para digitar M-matutino ou V-Vespertino ou N- Noturno. Imprima a mensagem \"Bom Dia!\", \"Boa Tarde!\" ou \"Boa Noite!\" ou \"Valor Inválido!\", conforme o caso."
   ]
  },
  {
   "cell_type": "code",
   "execution_count": 122,
   "metadata": {},
   "outputs": [
    {
     "name": "stdout",
     "output_type": "stream",
     "text": [
      "Boa noite\n"
     ]
    }
   ],
   "source": [
    "turno= str(input(\"Para M-matutino ou V-Vespertino ou N- Noturno. Digite o turno que você estuda:\"))\n",
    "\n",
    "if turno == \"M\":\n",
    "    print(\"Bom dia\")\n",
    "\n",
    "elif turno == \"V\":\n",
    "    print(\"Boa tarde\")\n",
    "\n",
    "elif turno == \"N\":\n",
    "    print(\"Boa noite\")\n",
    "\n",
    "else:\n",
    "    print(\"Valor Inválido\")"
   ]
  },
  {
   "cell_type": "markdown",
   "metadata": {},
   "source": [
    "#### Exercício 21 - As Organizações Tabajara resolveram dar um aumento de salário aos seus colaboradores e lhe contaram para desenvolver o programa que calculará os reajustes. Faça um programa que recebe o salário de um colaborador e o reajuste segundo o seguinte critério, baseado no salário atual:\n",
    "##### • salários até R$ 280,00 (incluindo) : aumento de 20%\n",
    "##### • salários entre R$ 280,00 e R$ 700,00 : aumento de 15%\n",
    "##### • salários entre R$ 700,00 e R$ 1500,00 : aumento de 10%\n",
    "##### • salários de R$ 1500,00 em diante : aumento de 5%\n",
    "##### Após o aumento ser realizado, informe na tela:\n",
    "##### • salário antes do reajuste;\n",
    "##### • percentual de aumento aplicado;\n",
    "##### • valor do aumento;\n",
    "##### • novo salário, após o aumento."
   ]
  },
  {
   "cell_type": "code",
   "execution_count": 132,
   "metadata": {},
   "outputs": [
    {
     "name": "stdout",
     "output_type": "stream",
     "text": [
      "Salário antes do reajuste de R$ 750.0\n",
      "Percentual de reajuste será de 10% e novo salario será de R$ 825.0000000000001\n"
     ]
    }
   ],
   "source": [
    "#salario antes do reajuste\n",
    "salario= float(input(\"Digite o valor do seu salário atual:\"))\n",
    "\n",
    "print(f\"Salário antes do reajuste de R$ {salario}\")\n",
    "\n",
    "#Percentual de aumento\n",
    "aum20= salario * 1.2\n",
    "aum15= salario * 1.15\n",
    "aum10= salario * 1.10\n",
    "aum5= salario * 1.05\n",
    "\n",
    "\n",
    "if salario <= 280:\n",
    "    print (f\"Percentual de reajuste será de 20% e novo salario será de R$ {aum20}\")\n",
    "\n",
    "elif  salario > 280 and salario <= 700:\n",
    "    print (f\"Percentual de reajuste será de 15% e novo salario será de R$ {aum15}\")\n",
    "\n",
    "elif  salario > 700 and salario <= 1500:\n",
    "    print (f\"Percentual de reajuste será de 10% e novo salario será de R$ {aum10}\")\n",
    "\n",
    "elif  salario > 700 and salario <= 1500:\n",
    "    print (f\"Percentual de reajuste será de 5% e novo salario será de R$ {aum5}\")\n"
   ]
  },
  {
   "cell_type": "markdown",
   "metadata": {},
   "source": [
    "#### Exercício 22 - Faça um programa para o cálculo de uma folha de pagamento, sabendo que os descontos são do Imposto de Renda, que depende do salário bruto (conforme tabela abaixo) e 3% para o Sindicato e que o FGTS corresponde a 11% do Salário Bruto, mas não é descontado (é a empresa que deposita). O Salário Líquido corresponde ao Salário Bruto menos os descontos. O programa deverá pedir ao usuário o valor da sua hora e a quantidade de horas trabalhadas no mês.\n",
    "#### Desconto do IR:\n",
    "#### • Salário Bruto até 900 (inclusive) – isento\n",
    "#### • Salário Bruto até 1500 (inclusive) - desconto de 5%\n",
    "#### • Salário Bruto até 2500 (inclusive) - desconto de 10%\n",
    "#### • Salário Bruto acima de 2500 - desconto de 20%\n",
    "#### Imprima na tela as informações, dispostas conforme o exemplo abaixo. No exemplo o\n",
    "#### valor da hora é 5 e a quantidade de hora é 220."
   ]
  },
  {
   "cell_type": "code",
   "execution_count": 133,
   "metadata": {},
   "outputs": [
    {
     "ename": "ValueError",
     "evalue": "could not convert string to float: ''",
     "output_type": "error",
     "traceback": [
      "\u001b[1;31m---------------------------------------------------------------------------\u001b[0m",
      "\u001b[1;31mValueError\u001b[0m                                Traceback (most recent call last)",
      "\u001b[1;32mc:\\Users\\FIC\\Documents\\gabrielly_holanda_big_data\\Aula 03- ESTRUTURA DE DECISÃO..ipynb Cell 41\u001b[0m line \u001b[0;36m1\n\u001b[1;32m----> <a href='vscode-notebook-cell:/c%3A/Users/FIC/Documents/gabrielly_holanda_big_data/Aula%2003-%20ESTRUTURA%20DE%20DECIS%C3%83O..ipynb#Y101sZmlsZQ%3D%3D?line=0'>1</a>\u001b[0m bruto\u001b[39m=\u001b[39m \u001b[39mfloat\u001b[39;49m(\u001b[39minput\u001b[39;49m(\u001b[39m\"\u001b[39;49m\u001b[39mDigite o valor do seu salário bruto:\u001b[39;49m\u001b[39m\"\u001b[39;49m))\n",
      "\u001b[1;31mValueError\u001b[0m: could not convert string to float: ''"
     ]
    }
   ],
   "source": [
    "bruto= float(input(\"Digite o valor do seu salário bruto:\"))\n",
    "\n"
   ]
  }
 ],
 "metadata": {
  "kernelspec": {
   "display_name": "Python 3",
   "language": "python",
   "name": "python3"
  },
  "language_info": {
   "codemirror_mode": {
    "name": "ipython",
    "version": 3
   },
   "file_extension": ".py",
   "mimetype": "text/x-python",
   "name": "python",
   "nbconvert_exporter": "python",
   "pygments_lexer": "ipython3",
   "version": "3.11.0"
  }
 },
 "nbformat": 4,
 "nbformat_minor": 2
}
