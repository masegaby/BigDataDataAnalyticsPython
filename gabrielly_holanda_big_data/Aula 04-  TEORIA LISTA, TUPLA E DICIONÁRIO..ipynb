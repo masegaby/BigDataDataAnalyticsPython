{
 "cells": [
  {
   "cell_type": "markdown",
   "metadata": {},
   "source": [
    "##### Listas"
   ]
  },
  {
   "cell_type": "code",
   "execution_count": 6,
   "metadata": {},
   "outputs": [
    {
     "data": {
      "text/plain": [
       "'Amanda'"
      ]
     },
     "execution_count": 6,
     "metadata": {},
     "output_type": "execute_result"
    }
   ],
   "source": [
    "alunos = ['Ana', 'Amanda', 'Bruno', 'João']\n",
    "notas = [10,9,8,7]\n",
    "\n",
    "alunos[1]"
   ]
  },
  {
   "cell_type": "code",
   "execution_count": 15,
   "metadata": {},
   "outputs": [
    {
     "data": {
      "text/plain": [
       "int"
      ]
     },
     "execution_count": 15,
     "metadata": {},
     "output_type": "execute_result"
    }
   ],
   "source": [
    "alunos[2]\n",
    "\n",
    "alunos[1:]\n",
    "\n",
    "type(notas)\n",
    "\n",
    "type(notas[3])"
   ]
  },
  {
   "cell_type": "markdown",
   "metadata": {},
   "source": [
    "### Converter uma lista para STRING"
   ]
  },
  {
   "cell_type": "markdown",
   "metadata": {},
   "source": [
    "Utiliza-se o comando join para converter lista em string"
   ]
  },
  {
   "cell_type": "code",
   "execution_count": 7,
   "metadata": {},
   "outputs": [
    {
     "name": "stdout",
     "output_type": "stream",
     "text": [
      "batata|óleo|margarina|café\n",
      "<class 'str'>\n"
     ]
    }
   ],
   "source": [
    "supermercado = ['batata','óleo','margarina','café']\n",
    "\n",
    "listaconvertida = '|'.join(supermercado)\n",
    "\n",
    "print(listaconvertida)\n",
    "\n",
    "print(type(listaconvertida))\n",
    "\n"
   ]
  },
  {
   "cell_type": "markdown",
   "metadata": {},
   "source": [
    "#### Tuplas (tuple)\n",
    "##### - Criamos utilizando parenteses\n",
    "##### - Separamos os elementos por vírgula\n",
    "##### - Após sua definição, não podemos alterar sua estrutura"
   ]
  },
  {
   "cell_type": "code",
   "execution_count": 19,
   "metadata": {},
   "outputs": [
    {
     "name": "stdout",
     "output_type": "stream",
     "text": [
      "<class 'tuple'>\n",
      "<class 'tuple'>\n"
     ]
    }
   ],
   "source": [
    "valores= (90,50,45,21,70)\n",
    "pontos= (100,94.50,86.78,62)\n",
    "\n",
    "print(type(valores))\n",
    "print(type(pontos))"
   ]
  },
  {
   "cell_type": "code",
   "execution_count": 20,
   "metadata": {},
   "outputs": [
    {
     "ename": "TypeError",
     "evalue": "'tuple' object does not support item assignment",
     "output_type": "error",
     "traceback": [
      "\u001b[1;31m---------------------------------------------------------------------------\u001b[0m",
      "\u001b[1;31mTypeError\u001b[0m                                 Traceback (most recent call last)",
      "\u001b[1;32mc:\\Users\\FIC\\Documents\\gabrielly_holanda_big_data\\Aula 04-  TEORIA LISTA, TUPLA E DICIONÁRIO..ipynb Cell 9\u001b[0m line \u001b[0;36m1\n\u001b[1;32m----> <a href='vscode-notebook-cell:/c%3A/Users/FIC/Documents/gabrielly_holanda_big_data/Aula%2004-%20%20TEORIA%20LISTA%2C%20TUPLA%20E%20DICION%C3%81RIO..ipynb#X20sZmlsZQ%3D%3D?line=0'>1</a>\u001b[0m valores[\u001b[39m0\u001b[39;49m]\u001b[39m=\u001b[39m\u001b[39m30\u001b[39m\n",
      "\u001b[1;31mTypeError\u001b[0m: 'tuple' object does not support item assignment"
     ]
    }
   ],
   "source": [
    "valores[0]=30\n",
    "\n",
    "#testando erro ao tentar modificar tupla"
   ]
  },
  {
   "cell_type": "markdown",
   "metadata": {},
   "source": [
    "##### Outros exemplos de TUPLA"
   ]
  },
  {
   "cell_type": "code",
   "execution_count": 18,
   "metadata": {},
   "outputs": [
    {
     "name": "stdout",
     "output_type": "stream",
     "text": [
      "[1, 2]\n",
      "Não é possível modificar uma tupla\n"
     ]
    }
   ],
   "source": [
    "# Criando uma lista\n",
    "my_list = [1,2]\n",
    "my_tuple = (1,2)\n",
    "\n",
    "# Alterando o elemento da posição 1 da lista\n",
    "# Lista permite a sua alteração\n",
    "my_list[0]= 10\n",
    "print(my_lista)\n",
    "\n",
    "# Alterando o elemento de uma tupla\n",
    "try:\n",
    "    my_tuple[1]= 3\n",
    "\n",
    "except TypeError:\n",
    "    print(\"Não é possível modificar uma tupla\")\n",
    "\n"
   ]
  },
  {
   "cell_type": "markdown",
   "metadata": {},
   "source": [
    "#### Criando uma função com tuplas"
   ]
  },
  {
   "cell_type": "code",
   "execution_count": 2,
   "metadata": {},
   "outputs": [],
   "source": [
    "def sum_and_product (x, y):\n",
    "    return (x+y), (x*y)"
   ]
  },
  {
   "cell_type": "code",
   "execution_count": 3,
   "metadata": {},
   "outputs": [
    {
     "data": {
      "text/plain": [
       "(15, 50)"
      ]
     },
     "execution_count": 3,
     "metadata": {},
     "output_type": "execute_result"
    }
   ],
   "source": [
    "sum_and_product(10,5)"
   ]
  },
  {
   "cell_type": "markdown",
   "metadata": {},
   "source": [
    "#### Dicionário\n",
    "#### Dict é um tipo de dado muito flexível do Python. Eles são utilizados para agrupar elementos através da estrutura de chave e valor, onde a chave é o primeiro elemento seguido por dois pontos e pelo valor. Vamos ver alguns exemplos:"
   ]
  },
  {
   "cell_type": "code",
   "execution_count": 8,
   "metadata": {},
   "outputs": [
    {
     "name": "stdout",
     "output_type": "stream",
     "text": [
      "<class 'dict'>\n",
      "<class 'dict'>\n"
     ]
    }
   ],
   "source": [
    "altura={\n",
    "    'Amanda': 1.65,\n",
    "    'Ana': 1.60,\n",
    "    'João': 1.50\n",
    "}\n",
    "\n",
    "peso= {\n",
    "    'Amanda':60,\n",
    "    'Ana': 50,\n",
    "    'João':100\n",
    "}\n",
    "\n",
    "print(type(altura))\n",
    "print(type(peso))"
   ]
  },
  {
   "cell_type": "code",
   "execution_count": 9,
   "metadata": {},
   "outputs": [
    {
     "name": "stdout",
     "output_type": "stream",
     "text": [
      "1.6\n",
      "50\n"
     ]
    }
   ],
   "source": [
    "# Acessar informações do dicionário\n",
    "print(altura['Ana'])\n",
    "print(peso['Ana'])"
   ]
  }
 ],
 "metadata": {
  "kernelspec": {
   "display_name": "Python 3",
   "language": "python",
   "name": "python3"
  },
  "language_info": {
   "codemirror_mode": {
    "name": "ipython",
    "version": 3
   },
   "file_extension": ".py",
   "mimetype": "text/x-python",
   "name": "python",
   "nbconvert_exporter": "python",
   "pygments_lexer": "ipython3",
   "version": "3.11.0"
  }
 },
 "nbformat": 4,
 "nbformat_minor": 2
}
