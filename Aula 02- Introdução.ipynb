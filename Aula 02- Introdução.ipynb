{
 "cells": [
  {
   "cell_type": "markdown",
   "metadata": {},
   "source": [
    "#### Palavras reservadas"
   ]
  },
  {
   "cell_type": "code",
   "execution_count": 2,
   "metadata": {},
   "outputs": [
    {
     "name": "stdout",
     "output_type": "stream",
     "text": [
      "['False', 'None', 'True', 'and', 'as', 'assert', 'async', 'await', 'break', 'class', 'continue', 'def', 'del', 'elif', 'else', 'except', 'finally', 'for', 'from', 'global', 'if', 'import', 'in', 'is', 'lambda', 'nonlocal', 'not', 'or', 'pass', 'raise', 'return', 'try', 'while', 'with', 'yield']\n"
     ]
    }
   ],
   "source": [
    "import keyword\n",
    "print(keyword.kwlist)"
   ]
  },
  {
   "cell_type": "markdown",
   "metadata": {},
   "source": [
    "### Exercício 02 – Crie um programa para receber dois valores e em seguida, exiba o valor da diferença entre eles."
   ]
  },
  {
   "cell_type": "code",
   "execution_count": 9,
   "metadata": {},
   "outputs": [
    {
     "name": "stdout",
     "output_type": "stream",
     "text": [
      "O resultado da subtração é 5\n"
     ]
    }
   ],
   "source": [
    "num1 = 10\n",
    "num2 = 5\n",
    "\n",
    "diferenca =  num1 - num2\n",
    "\n",
    "print(f\"O resultado da subtração é {diferenca}\")"
   ]
  },
  {
   "cell_type": "markdown",
   "metadata": {},
   "source": [
    "#### Exercício 03 – Crie um programa para receber dois valores e em seguida, exiba o produto entre eles."
   ]
  },
  {
   "cell_type": "code",
   "execution_count": 14,
   "metadata": {},
   "outputs": [
    {
     "name": "stdout",
     "output_type": "stream",
     "text": [
      "<class 'str'>\n",
      "<class 'str'>\n",
      "<class 'float'>\n",
      "<class 'float'>\n",
      "O resultado da soma é 3600.0\n"
     ]
    }
   ],
   "source": [
    "num1 = input(\"Digite o primeiro valor:\")\n",
    "num2 = input(\"Digite o segunda valor:\")\n",
    "\n",
    "# Verificando tipo de dado\n",
    "print(type(num1))\n",
    "print(type(num2))\n",
    "\n",
    "#Convertendo os valores em DECIMAIS\n",
    "num1= float(num1)\n",
    "num2= float(num2)\n",
    "\n",
    "# Verificando tipo de dado\n",
    "print(type(num1))\n",
    "print(type(num2))\n",
    "\n",
    "produto =  num1 * num2\n",
    "print(f\"O resultado da soma é {produto}\")"
   ]
  },
  {
   "cell_type": "markdown",
   "metadata": {},
   "source": [
    "### Exercício 16 - Faça um Programa que peça 2 números inteiros e um número real. Calcule e mostre:\n",
    "### a) o produto do dobro do primeiro com metade do segundo.\n",
    "### b) a soma do triplo do primeiro com o terceiro.\n",
    "### c) o terceiro elevado ao cubo."
   ]
  },
  {
   "cell_type": "code",
   "execution_count": 20,
   "metadata": {},
   "outputs": [
    {
     "name": "stdout",
     "output_type": "stream",
     "text": [
      "4.0\n",
      "Alternativa B: 8.0\n",
      "8.0\n"
     ]
    }
   ],
   "source": [
    "# Recebendo valores e convertendo \n",
    "\n",
    "num1 = int(input(\"Digite o primeiro valor:\"))\n",
    "num2 = int(input(\"Digite o primeiro valor:\"))\n",
    "num3 = float(input(\"Digite o primeiro valor:\"))\n",
    "\n",
    "# Calculando o produto do dobro do primeiro com metade do segundo.\n",
    "a= (2*num1)*(num2/2)\n",
    "print(a)\n",
    "\n",
    "# Calculando a soma do triplo do primeiro com o terceiro.\n",
    "\n",
    "b= (3*num1)+ num3\n",
    "print(\"Alternativa B:\",b)\n",
    "\n",
    "# Calculando o terceiro elevado ao cubo.\n",
    "c=(num3**3)\n",
    "print(c)"
   ]
  },
  {
   "cell_type": "markdown",
   "metadata": {},
   "source": [
    "#### Exercício 17 - João Papo-de-Pescador, homem de bem, comprou um microcomputador para controlar o rendimento diário de seu trabalho. Toda vez que ele traz um peso de peixes maior que o estabelecido pelo regulamento de pesca do estado de São Paulo (50 quilos) deve pagar uma multa de R$ 4,00 por quilo excedente. João precisa que você faça um programa que leia a variável peso (peso de peixes) e calcule o excesso. Gravar na variável excesso a quantidade de quilos além do limite e na variável multa o valor da multa que João deverá pagar. Imprima os dados do programa com as mensagens adequadas."
   ]
  },
  {
   "cell_type": "code",
   "execution_count": 28,
   "metadata": {},
   "outputs": [
    {
     "name": "stdout",
     "output_type": "stream",
     "text": [
      "-180.0\n",
      "O peso total é 55.0 kg, o excedente é de 5.0 kg, portanto a multa é de R$ 20.0\n"
     ]
    }
   ],
   "source": [
    "## mínimo = 50 kg\n",
    "## multa = 4,00 kg p/ peso excedente\n",
    "\n",
    "peso = float(input(\"Insira peso da pesca:\"))\n",
    "pesomax= 50\n",
    "valorporkg= 4\n",
    "\n",
    "calculo= (peso- pesomax)*valorporkg\n",
    "\n",
    "print(calculo)\n",
    "\n",
    "## outra forma de calcular\n",
    "\n",
    "peso = float(input(\"Insira peso da pesca:\"))\n",
    "pesomax= 50\n",
    "excesso= peso - pesomax\n",
    "valorporkg = 4\n",
    "\n",
    "calculo= excesso*valorporkg\n",
    "\n",
    "print(f'O peso total é {peso} kg, o excedente é de {excesso} kg, portanto a multa é de R$ {calculo}')"
   ]
  },
  {
   "cell_type": "markdown",
   "metadata": {},
   "source": [
    "#### Exercício 18 - Faça um Programa que pergunte quanto você ganha por hora e o número de horas trabalhadas no mês. Calcule e mostre o total do seu salário no referido mês, sabendo-se que são descontados 11% para o Imposto de Renda, 8% para o INSS e 5% para o sindicato, faça um programa que nos dê:\n",
    "#### a) salário bruto.\n",
    "#### b) quanto pagou ao INSS.\n",
    "#### c) quanto pagou ao sindicato.\n",
    "#### d) o salário líquido.\n",
    "#### e) calcule os descontos e o salário líquido, conforme a tabela abaixo:"
   ]
  },
  {
   "cell_type": "code",
   "execution_count": 33,
   "metadata": {},
   "outputs": [
    {
     "name": "stdout",
     "output_type": "stream",
     "text": [
      "Salário Bruto: 1000.0\n",
      "Pagamento de INSS foi de: R$ 110.0\n",
      "Pagamento de INSS foi de: R$ 80.0\n",
      "Pagamento de INSS foi de: R$ 50.0\n",
      "Salário Líquido de: R$ 760.0\n",
      "+ Salário Bruto : R$ 1000.0\n",
      "- IR (11%) : R$ 110.0\n",
      "- INSS (8%) : R$ 80.0\n",
      "- Sindicato ( 5%) : R$ 50.0\n",
      "= Salário Liquido : R$760.0\n"
     ]
    }
   ],
   "source": [
    "salariohora= float(input(\"Quanto você ganha por hora?\"))\n",
    "horames= float(input(\"Quantas horas você trabalha por mês?\"))\n",
    "\n",
    "#Alternativa A\n",
    "\n",
    "salariobruto= salariohora * horames\n",
    "\n",
    "print(\"Salário Bruto:\",salariobruto)\n",
    "\n",
    "#Alternativa B e C\n",
    "\n",
    "ir= 0.11\n",
    "inss= 0.08\n",
    "sindicato= 0.05\n",
    "\n",
    "per_ir= salariobruto * ir\n",
    "per_inss= salariobruto * inss\n",
    "per_sindicato= salariobruto * sindicato\n",
    "\n",
    "print(\"Pagamento de INSS foi de: R$\",per_ir)\n",
    "print(\"Pagamento de INSS foi de: R$\",per_inss)\n",
    "print(\"Pagamento de INSS foi de: R$\",per_sindicato)\n",
    "\n",
    "#Alternativa D\n",
    "\n",
    "salarioliquido= salariobruto- per_ir-per_inss-per_sindicato\n",
    "\n",
    "print(\"Salário Líquido de: R$\",salarioliquido)\n",
    "\n",
    "# Exibir resultados conforme enunciado:\n",
    "\n",
    "print(f\"+ Salário Bruto : R$ {salariobruto}\")\n",
    "print(f\"- IR (11%) : R$ {per_ir}\")\n",
    "print(f\"- INSS (8%) : R$ {per_inss}\")\n",
    "print(f\"- Sindicato ( 5%) : R$ {per_sindicato}\")\n",
    "print(f\"= Salário Liquido : R${salarioliquido}\")"
   ]
  },
  {
   "cell_type": "markdown",
   "metadata": {},
   "source": [
    "### Exercício 19 - Faça um programa para uma loja de tintas. O programa deverá pedir o tamanho em metros quadrados da área a ser pintada. Considere que a cobertura da tinta é de 1 litro para cada 3 metros quadrados e que a tinta é vendida em latas de 18 litros, que custam R$ 80,00. Informe ao usuário a quantidades de latas de tinta a serem compradas e o preço total."
   ]
  },
  {
   "cell_type": "code",
   "execution_count": 48,
   "metadata": {},
   "outputs": [
    {
     "name": "stdout",
     "output_type": "stream",
     "text": [
      "Quantidade de latas= 1\n",
      "Custo total R$= 80.0\n"
     ]
    }
   ],
   "source": [
    "import math #importar a biblioteca match para utilizar a função ceil \n",
    "metragem= float(input(\"Insira a metragem quadrada a ser pintada:\"))\n",
    "\n",
    "redimentometro= 3\n",
    "litrolata= 18.0\n",
    "valorlata= 80.00\n",
    "\n",
    "#quantlitro= metragem/ redimentometro\n",
    "#quantlata= round(quantlitro/litrolata,1)\n",
    "#precototal= round(quantlata * valorlata,1)\n",
    "\n",
    "quantlitro= metragem/ redimentometro\n",
    "quantlata= math.ceil (quantlitro/litrolata)\n",
    "precototal= round(quantlata * valorlata,1)\n",
    "\n",
    "\n",
    "print(f\"Quantidade de latas= {quantlata}\")\n",
    "print(f\"Custo total R$= {precototal}\")\n",
    "\n",
    "# 1 litro p 3 m²\n",
    "# Lata de 18l\n",
    "# Valor da lata = R$ 80,00\n",
    "# quantidade de latas- ?\n"
   ]
  },
  {
   "cell_type": "code",
   "execution_count": 42,
   "metadata": {},
   "outputs": [
    {
     "name": "stdout",
     "output_type": "stream",
     "text": [
      "Quantidade de latas= 1.0\n",
      "Custo total R$80.0\n"
     ]
    }
   ],
   "source": [
    "altura = float(input(\"Altura:\"))\n",
    "largura = float(input(\"Largura:\"))\n",
    "\n",
    "metragem= altura* largura\n",
    "\n",
    "redimentometro= 3\n",
    "litrolata= 18.0\n",
    "valorlata= 80.00\n",
    "\n",
    "quantlitro= metragem/ redimentometro\n",
    "quantlata= quantlitro/litrolata\n",
    "precototal= quantlata * valorlata\n",
    "\n",
    "print(f\"Quantidade de latas= {quantlata}\")\n",
    "print(f\"Custo total R$ {precototal}\")"
   ]
  }
 ],
 "metadata": {
  "kernelspec": {
   "display_name": "Python 3",
   "language": "python",
   "name": "python3"
  },
  "language_info": {
   "codemirror_mode": {
    "name": "ipython",
    "version": 3
   },
   "file_extension": ".py",
   "mimetype": "text/x-python",
   "name": "python",
   "nbconvert_exporter": "python",
   "pygments_lexer": "ipython3",
   "version": "3.11.0"
  }
 },
 "nbformat": 4,
 "nbformat_minor": 2
}
