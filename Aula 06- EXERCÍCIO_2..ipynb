{
 "cells": [
  {
   "cell_type": "markdown",
   "metadata": {},
   "source": [
    "# Exercício 02 – Manipulando dados com Pandas\n",
    "#### a) Crie um programa em pandas para ler o arquivo em Excel imobiliária.xlsx\n",
    "#### b) e coloque em um dataframe.\n",
    "#### c) Visualize o cabeçalho dos dados;\n",
    "#### d) Visualize as últimas linhas;\n",
    "#### e) Escreva um programa para renomear o cabeçalho da tabela com os\n",
    "#### f) seguintes nomes:"
   ]
  },
  {
   "cell_type": "code",
   "execution_count": 4,
   "metadata": {},
   "outputs": [
    {
     "data": {
      "text/html": [
       "<div>\n",
       "<style scoped>\n",
       "    .dataframe tbody tr th:only-of-type {\n",
       "        vertical-align: middle;\n",
       "    }\n",
       "\n",
       "    .dataframe tbody tr th {\n",
       "        vertical-align: top;\n",
       "    }\n",
       "\n",
       "    .dataframe thead th {\n",
       "        text-align: right;\n",
       "    }\n",
       "</style>\n",
       "<table border=\"1\" class=\"dataframe\">\n",
       "  <thead>\n",
       "    <tr style=\"text-align: right;\">\n",
       "      <th></th>\n",
       "      <th>Coluna 1</th>\n",
       "      <th>Coluna 2</th>\n",
       "      <th>Coluna 3</th>\n",
       "      <th>Coluna 4</th>\n",
       "      <th>Coluna 5</th>\n",
       "      <th>Coluna 6</th>\n",
       "      <th>Coluna 7</th>\n",
       "      <th>Coluna 8</th>\n",
       "      <th>Coluna 8.1</th>\n",
       "      <th>Coluna 10</th>\n",
       "    </tr>\n",
       "  </thead>\n",
       "  <tbody>\n",
       "    <tr>\n",
       "      <th>0</th>\n",
       "      <td>Centro</td>\n",
       "      <td>Simone</td>\n",
       "      <td>2005-10-08</td>\n",
       "      <td>Apartamento</td>\n",
       "      <td>102.5</td>\n",
       "      <td>2</td>\n",
       "      <td>2</td>\n",
       "      <td>Sim</td>\n",
       "      <td>235500</td>\n",
       "      <td>3532.5</td>\n",
       "    </tr>\n",
       "    <tr>\n",
       "      <th>1</th>\n",
       "      <td>Noroeste</td>\n",
       "      <td>Simone</td>\n",
       "      <td>2005-10-08</td>\n",
       "      <td>Apartamento</td>\n",
       "      <td>199.5</td>\n",
       "      <td>4</td>\n",
       "      <td>4</td>\n",
       "      <td>Não</td>\n",
       "      <td>377700</td>\n",
       "      <td>5665.5</td>\n",
       "    </tr>\n",
       "  </tbody>\n",
       "</table>\n",
       "</div>"
      ],
      "text/plain": [
       "   Coluna 1 Coluna 2   Coluna 3     Coluna 4  Coluna 5  Coluna 6  Coluna 7  \\\n",
       "0    Centro   Simone 2005-10-08  Apartamento     102.5         2         2   \n",
       "1  Noroeste   Simone 2005-10-08  Apartamento     199.5         4         4   \n",
       "\n",
       "  Coluna 8  Coluna 8.1  Coluna 10  \n",
       "0      Sim      235500     3532.5  \n",
       "1      Não      377700     5665.5  "
      ]
     },
     "execution_count": 4,
     "metadata": {},
     "output_type": "execute_result"
    }
   ],
   "source": [
    "#A) importando arquivo\n",
    "#B) Colocando em dataframe\n",
    "#C) Visualizando o cabeçalho\n",
    "\n",
    "import pandas as pd\n",
    "\n",
    "caminho = \"C:\\\\\\\\Users\\\\\\\\FIC\\\\\\\\Documents\\\\\\\\gabrielly_holanda_big_data\\\\\\\\Arquivos\\\\\\\\Imobiliária.xlsx\"\n",
    "\n",
    "df= pd.read_excel(caminho)\n",
    "\n",
    "df.head(2)"
   ]
  },
  {
   "cell_type": "code",
   "execution_count": 5,
   "metadata": {},
   "outputs": [
    {
     "data": {
      "text/html": [
       "<div>\n",
       "<style scoped>\n",
       "    .dataframe tbody tr th:only-of-type {\n",
       "        vertical-align: middle;\n",
       "    }\n",
       "\n",
       "    .dataframe tbody tr th {\n",
       "        vertical-align: top;\n",
       "    }\n",
       "\n",
       "    .dataframe thead th {\n",
       "        text-align: right;\n",
       "    }\n",
       "</style>\n",
       "<table border=\"1\" class=\"dataframe\">\n",
       "  <thead>\n",
       "    <tr style=\"text-align: right;\">\n",
       "      <th></th>\n",
       "      <th>Coluna 1</th>\n",
       "      <th>Coluna 2</th>\n",
       "      <th>Coluna 3</th>\n",
       "      <th>Coluna 4</th>\n",
       "      <th>Coluna 5</th>\n",
       "      <th>Coluna 6</th>\n",
       "      <th>Coluna 7</th>\n",
       "      <th>Coluna 8</th>\n",
       "      <th>Coluna 8.1</th>\n",
       "      <th>Coluna 10</th>\n",
       "    </tr>\n",
       "  </thead>\n",
       "  <tbody>\n",
       "    <tr>\n",
       "      <th>1115</th>\n",
       "      <td>Leste</td>\n",
       "      <td>Simone</td>\n",
       "      <td>2011-03-27</td>\n",
       "      <td>Apartamento</td>\n",
       "      <td>42.0</td>\n",
       "      <td>1</td>\n",
       "      <td>1</td>\n",
       "      <td>Sim</td>\n",
       "      <td>167900</td>\n",
       "      <td>2518.5</td>\n",
       "    </tr>\n",
       "    <tr>\n",
       "      <th>1116</th>\n",
       "      <td>Oeste</td>\n",
       "      <td>Simone</td>\n",
       "      <td>2011-03-28</td>\n",
       "      <td>Apartamento</td>\n",
       "      <td>100.5</td>\n",
       "      <td>2</td>\n",
       "      <td>2</td>\n",
       "      <td>Sim</td>\n",
       "      <td>227600</td>\n",
       "      <td>3414.0</td>\n",
       "    </tr>\n",
       "  </tbody>\n",
       "</table>\n",
       "</div>"
      ],
      "text/plain": [
       "     Coluna 1 Coluna 2   Coluna 3     Coluna 4  Coluna 5  Coluna 6  Coluna 7  \\\n",
       "1115    Leste   Simone 2011-03-27  Apartamento      42.0         1         1   \n",
       "1116    Oeste   Simone 2011-03-28  Apartamento     100.5         2         2   \n",
       "\n",
       "     Coluna 8  Coluna 8.1  Coluna 10  \n",
       "1115      Sim      167900     2518.5  \n",
       "1116      Sim      227600     3414.0  "
      ]
     },
     "execution_count": 5,
     "metadata": {},
     "output_type": "execute_result"
    }
   ],
   "source": [
    "#D) Visualizando o as últimas linhas\n",
    "df.tail(2)"
   ]
  },
  {
   "cell_type": "code",
   "execution_count": 6,
   "metadata": {},
   "outputs": [
    {
     "data": {
      "text/html": [
       "<div>\n",
       "<style scoped>\n",
       "    .dataframe tbody tr th:only-of-type {\n",
       "        vertical-align: middle;\n",
       "    }\n",
       "\n",
       "    .dataframe tbody tr th {\n",
       "        vertical-align: top;\n",
       "    }\n",
       "\n",
       "    .dataframe thead th {\n",
       "        text-align: right;\n",
       "    }\n",
       "</style>\n",
       "<table border=\"1\" class=\"dataframe\">\n",
       "  <thead>\n",
       "    <tr style=\"text-align: right;\">\n",
       "      <th></th>\n",
       "      <th>Filial</th>\n",
       "      <th>Vendedor</th>\n",
       "      <th>Data</th>\n",
       "      <th>Tipo</th>\n",
       "      <th>Área (m²)</th>\n",
       "      <th>Dorms.</th>\n",
       "      <th>Garag.</th>\n",
       "      <th>Piscina</th>\n",
       "      <th>Preco</th>\n",
       "      <th>Comissao</th>\n",
       "    </tr>\n",
       "  </thead>\n",
       "  <tbody>\n",
       "    <tr>\n",
       "      <th>0</th>\n",
       "      <td>Centro</td>\n",
       "      <td>Simone</td>\n",
       "      <td>2005-10-08</td>\n",
       "      <td>Apartamento</td>\n",
       "      <td>102.5</td>\n",
       "      <td>2</td>\n",
       "      <td>2</td>\n",
       "      <td>Sim</td>\n",
       "      <td>235500</td>\n",
       "      <td>3532.5</td>\n",
       "    </tr>\n",
       "    <tr>\n",
       "      <th>1</th>\n",
       "      <td>Noroeste</td>\n",
       "      <td>Simone</td>\n",
       "      <td>2005-10-08</td>\n",
       "      <td>Apartamento</td>\n",
       "      <td>199.5</td>\n",
       "      <td>4</td>\n",
       "      <td>4</td>\n",
       "      <td>Não</td>\n",
       "      <td>377700</td>\n",
       "      <td>5665.5</td>\n",
       "    </tr>\n",
       "    <tr>\n",
       "      <th>2</th>\n",
       "      <td>Norte</td>\n",
       "      <td>Roberto</td>\n",
       "      <td>2005-10-12</td>\n",
       "      <td>Casa</td>\n",
       "      <td>145.5</td>\n",
       "      <td>2</td>\n",
       "      <td>2</td>\n",
       "      <td>Não</td>\n",
       "      <td>232500</td>\n",
       "      <td>3487.5</td>\n",
       "    </tr>\n",
       "    <tr>\n",
       "      <th>3</th>\n",
       "      <td>Sudeste</td>\n",
       "      <td>Simone</td>\n",
       "      <td>2005-10-14</td>\n",
       "      <td>Apartamento</td>\n",
       "      <td>153.5</td>\n",
       "      <td>3</td>\n",
       "      <td>2</td>\n",
       "      <td>Não</td>\n",
       "      <td>289100</td>\n",
       "      <td>4336.5</td>\n",
       "    </tr>\n",
       "    <tr>\n",
       "      <th>4</th>\n",
       "      <td>Noroeste</td>\n",
       "      <td>Cristina</td>\n",
       "      <td>2005-10-16</td>\n",
       "      <td>Apartamento</td>\n",
       "      <td>93.0</td>\n",
       "      <td>2</td>\n",
       "      <td>2</td>\n",
       "      <td>Sim</td>\n",
       "      <td>235400</td>\n",
       "      <td>3531.0</td>\n",
       "    </tr>\n",
       "  </tbody>\n",
       "</table>\n",
       "</div>"
      ],
      "text/plain": [
       "     Filial  Vendedor       Data         Tipo  Área (m²)  Dorms.  Garag.  \\\n",
       "0    Centro    Simone 2005-10-08  Apartamento      102.5       2       2   \n",
       "1  Noroeste    Simone 2005-10-08  Apartamento      199.5       4       4   \n",
       "2     Norte   Roberto 2005-10-12         Casa      145.5       2       2   \n",
       "3   Sudeste    Simone 2005-10-14  Apartamento      153.5       3       2   \n",
       "4  Noroeste  Cristina 2005-10-16  Apartamento       93.0       2       2   \n",
       "\n",
       "  Piscina   Preco  Comissao  \n",
       "0     Sim  235500    3532.5  \n",
       "1     Não  377700    5665.5  \n",
       "2     Não  232500    3487.5  \n",
       "3     Não  289100    4336.5  \n",
       "4     Sim  235400    3531.0  "
      ]
     },
     "execution_count": 6,
     "metadata": {},
     "output_type": "execute_result"
    }
   ],
   "source": [
    "#E) Renomeando nome das colunas \n",
    "\n",
    "df.columns =[\n",
    "    'Filial','Vendedor','Data','Tipo','Área (m²)','Dorms.','Garag.','Piscina','Preco','Comissao']\n",
    "\n",
    "df.head()"
   ]
  },
  {
   "cell_type": "code",
   "execution_count": 7,
   "metadata": {},
   "outputs": [
    {
     "data": {
      "text/html": [
       "<div>\n",
       "<style scoped>\n",
       "    .dataframe tbody tr th:only-of-type {\n",
       "        vertical-align: middle;\n",
       "    }\n",
       "\n",
       "    .dataframe tbody tr th {\n",
       "        vertical-align: top;\n",
       "    }\n",
       "\n",
       "    .dataframe thead th {\n",
       "        text-align: right;\n",
       "    }\n",
       "</style>\n",
       "<table border=\"1\" class=\"dataframe\">\n",
       "  <thead>\n",
       "    <tr style=\"text-align: right;\">\n",
       "      <th></th>\n",
       "      <th>Filial</th>\n",
       "      <th>Vendedor</th>\n",
       "      <th>Data</th>\n",
       "      <th>Tipo</th>\n",
       "      <th>Área (m²)</th>\n",
       "      <th>Dorms.</th>\n",
       "      <th>Garag.</th>\n",
       "      <th>Piscina</th>\n",
       "      <th>Preco</th>\n",
       "      <th>Comissao</th>\n",
       "    </tr>\n",
       "  </thead>\n",
       "  <tbody>\n",
       "    <tr>\n",
       "      <th>0</th>\n",
       "      <td>Centro</td>\n",
       "      <td>Simone</td>\n",
       "      <td>2005-10-08</td>\n",
       "      <td>Apartamento</td>\n",
       "      <td>102.5</td>\n",
       "      <td>2</td>\n",
       "      <td>2</td>\n",
       "      <td>Sim</td>\n",
       "      <td>235500</td>\n",
       "      <td>3532.5</td>\n",
       "    </tr>\n",
       "    <tr>\n",
       "      <th>1</th>\n",
       "      <td>Noroeste</td>\n",
       "      <td>Simone</td>\n",
       "      <td>2005-10-08</td>\n",
       "      <td>Apartamento</td>\n",
       "      <td>199.5</td>\n",
       "      <td>4</td>\n",
       "      <td>4</td>\n",
       "      <td>Não</td>\n",
       "      <td>377700</td>\n",
       "      <td>5665.5</td>\n",
       "    </tr>\n",
       "    <tr>\n",
       "      <th>2</th>\n",
       "      <td>Norte</td>\n",
       "      <td>Roberto</td>\n",
       "      <td>2005-10-12</td>\n",
       "      <td>Casa</td>\n",
       "      <td>145.5</td>\n",
       "      <td>2</td>\n",
       "      <td>2</td>\n",
       "      <td>Não</td>\n",
       "      <td>232500</td>\n",
       "      <td>3487.5</td>\n",
       "    </tr>\n",
       "    <tr>\n",
       "      <th>3</th>\n",
       "      <td>Sudeste</td>\n",
       "      <td>Simone</td>\n",
       "      <td>2005-10-14</td>\n",
       "      <td>Apartamento</td>\n",
       "      <td>153.5</td>\n",
       "      <td>3</td>\n",
       "      <td>2</td>\n",
       "      <td>Não</td>\n",
       "      <td>289100</td>\n",
       "      <td>4336.5</td>\n",
       "    </tr>\n",
       "    <tr>\n",
       "      <th>4</th>\n",
       "      <td>Noroeste</td>\n",
       "      <td>Cristina</td>\n",
       "      <td>2005-10-16</td>\n",
       "      <td>Apartamento</td>\n",
       "      <td>93.0</td>\n",
       "      <td>2</td>\n",
       "      <td>2</td>\n",
       "      <td>Sim</td>\n",
       "      <td>235400</td>\n",
       "      <td>3531.0</td>\n",
       "    </tr>\n",
       "  </tbody>\n",
       "</table>\n",
       "</div>"
      ],
      "text/plain": [
       "     Filial  Vendedor       Data         Tipo  Área (m²)  Dorms.  Garag.  \\\n",
       "0    Centro    Simone 2005-10-08  Apartamento      102.5       2       2   \n",
       "1  Noroeste    Simone 2005-10-08  Apartamento      199.5       4       4   \n",
       "2     Norte   Roberto 2005-10-12         Casa      145.5       2       2   \n",
       "3   Sudeste    Simone 2005-10-14  Apartamento      153.5       3       2   \n",
       "4  Noroeste  Cristina 2005-10-16  Apartamento       93.0       2       2   \n",
       "\n",
       "  Piscina   Preco  Comissao  \n",
       "0     Sim  235500    3532.5  \n",
       "1     Não  377700    5665.5  \n",
       "2     Não  232500    3487.5  \n",
       "3     Não  289100    4336.5  \n",
       "4     Sim  235400    3531.0  "
      ]
     },
     "execution_count": 7,
     "metadata": {},
     "output_type": "execute_result"
    }
   ],
   "source": [
    "#Outra forma:\n",
    "\n",
    "headers=[\n",
    "    'Filial','Vendedor','Data','Tipo','Área (m²)','Dorms.','Garag.','Piscina','Preco','Comissao']\n",
    "\n",
    "df.columns= (headers)\n",
    "df.head()"
   ]
  },
  {
   "cell_type": "code",
   "execution_count": 8,
   "metadata": {},
   "outputs": [
    {
     "name": "stdout",
     "output_type": "stream",
     "text": [
      "<class 'pandas.core.frame.DataFrame'>\n",
      "RangeIndex: 1117 entries, 0 to 1116\n",
      "Data columns (total 10 columns):\n",
      " #   Column     Non-Null Count  Dtype         \n",
      "---  ------     --------------  -----         \n",
      " 0   Filial     1117 non-null   object        \n",
      " 1   Vendedor   1117 non-null   object        \n",
      " 2   Data       1117 non-null   datetime64[ns]\n",
      " 3   Tipo       1117 non-null   object        \n",
      " 4   Área (m²)  1117 non-null   float64       \n",
      " 5   Dorms.     1117 non-null   int64         \n",
      " 6   Garag.     1117 non-null   int64         \n",
      " 7   Piscina    1117 non-null   object        \n",
      " 8   Preco      1117 non-null   int64         \n",
      " 9   Comissao   1117 non-null   float64       \n",
      "dtypes: datetime64[ns](1), float64(2), int64(3), object(4)\n",
      "memory usage: 87.4+ KB\n"
     ]
    }
   ],
   "source": [
    "# G) Tipos de dados \n",
    "# H) Valores faltantes ou nulos\n",
    "df.info()"
   ]
  },
  {
   "cell_type": "code",
   "execution_count": 20,
   "metadata": {},
   "outputs": [
    {
     "data": {
      "text/plain": [
       "295035000"
      ]
     },
     "execution_count": 20,
     "metadata": {},
     "output_type": "execute_result"
    }
   ],
   "source": [
    "#H) modo, média, máximo, mínimo e contagem da coluna PREÇO\n",
    "\n",
    "#SOMA\n",
    "df['Preco'].sum ()"
   ]
  },
  {
   "cell_type": "code",
   "execution_count": 21,
   "metadata": {},
   "outputs": [
    {
     "data": {
      "text/plain": [
       "264131.6025067144"
      ]
     },
     "execution_count": 21,
     "metadata": {},
     "output_type": "execute_result"
    }
   ],
   "source": [
    "df['Preco'].mean()"
   ]
  },
  {
   "cell_type": "code",
   "execution_count": 22,
   "metadata": {},
   "outputs": [
    {
     "data": {
      "text/plain": [
       "384300"
      ]
     },
     "execution_count": 22,
     "metadata": {},
     "output_type": "execute_result"
    }
   ],
   "source": [
    "df['Preco'].max()"
   ]
  },
  {
   "cell_type": "code",
   "execution_count": 23,
   "metadata": {},
   "outputs": [
    {
     "data": {
      "text/plain": [
       "145100"
      ]
     },
     "execution_count": 23,
     "metadata": {},
     "output_type": "execute_result"
    }
   ],
   "source": [
    "df['Preco'].min()"
   ]
  },
  {
   "cell_type": "code",
   "execution_count": 24,
   "metadata": {},
   "outputs": [
    {
     "data": {
      "text/plain": [
       "1117"
      ]
     },
     "execution_count": 24,
     "metadata": {},
     "output_type": "execute_result"
    }
   ],
   "source": [
    "df['Preco'].count()"
   ]
  },
  {
   "cell_type": "markdown",
   "metadata": {},
   "source": [
    "#### 8. Crie um programa para criar um dataframe para mostrar as vendas por região, e salvar um arquivo em Excel para cada região."
   ]
  },
  {
   "cell_type": "code",
   "execution_count": 38,
   "metadata": {},
   "outputs": [],
   "source": [
    "#Gerar um relatório de vendas da região CENTRO\n",
    "# Filtrar os dados\n",
    "df_final= df[df['Filial'] == 'Centro']\n",
    "\n",
    "#Mapear o caminho final e definir um nome para o arquivo\n",
    "caminho1= 'C:\\\\Users\\\\FIC\\\\Documents\\\\gabrielly_holanda_big_data\\\\Relatórios Filiais\\\\'\n",
    "arquivo= 'centro.xlsx'\n",
    "\n",
    "df_final.to_excel(caminho1 + arquivo)"
   ]
  }
 ],
 "metadata": {
  "kernelspec": {
   "display_name": "Python 3",
   "language": "python",
   "name": "python3"
  },
  "language_info": {
   "codemirror_mode": {
    "name": "ipython",
    "version": 3
   },
   "file_extension": ".py",
   "mimetype": "text/x-python",
   "name": "python",
   "nbconvert_exporter": "python",
   "pygments_lexer": "ipython3",
   "version": "3.11.0"
  }
 },
 "nbformat": 4,
 "nbformat_minor": 2
}
